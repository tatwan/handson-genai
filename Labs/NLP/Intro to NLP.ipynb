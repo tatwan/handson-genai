{
 "cells": [
  {
   "cell_type": "markdown",
   "id": "94435231",
   "metadata": {},
   "source": [
    "# Assignment: Word2Vec with a Larger Corpus\n",
    "\n",
    "Your task is to repeat the Word2Vec model training process on a larger corpus of your choice.\n",
    "\n",
    "1.  **Find a Corpus**: Find a text file (`.txt`) to use as your corpus. You can use sources like [Project Gutenberg](https://www.gutenberg.org/) to find books in plain text format. Download a book and save it in a `Resources` folder.\n",
    "2.  **Load and Preprocess**: Load the text data and preprocess it similar to the examples above (e.g., tokenization, lowercasing).\n",
    "3.  **Train the Model**: Train a `Word2Vec` model on your corpus. You might need to experiment with the model parameters (`vector_size`, `window`, `min_count`, etc.) to get good results.\n",
    "4.  **Explore the Embeddings**:\n",
    "    *   Find the most similar words for a few words in your vocabulary.\n",
    "    *   Perform some word analogies (e.g., \"king\" - \"man\" + \"woman\" = \"queen\").\n",
    "    *   Implement a function to find the most similar document (sentence) in your corpus for a given query sentence. Test it with a few queries.\n",
    "5.  **Reflect**: Briefly describe your findings. Are the results better or worse than the small example? What did you learn?"
   ]
  },
  {
   "cell_type": "markdown",
   "id": "d2b5604c",
   "metadata": {},
   "source": [
    "# Assignment Solution"
   ]
  },
  {
   "cell_type": "code",
   "execution_count": 20,
   "id": "9ef8d91c",
   "metadata": {},
   "outputs": [
    {
     "data": {
      "text/plain": [
       "[('jungle.', 0.2498362958431244),\n",
       " ('technology.', 0.2403174191713333),\n",
       " ('developers', 0.2143532931804657),\n",
       " ('home', 0.2039964646100998),\n",
       " ('written', 0.18727393448352814),\n",
       " ('millions', 0.18656769394874573),\n",
       " ('wore', 0.1845983862876892),\n",
       " ('bread', 0.17786766588687897),\n",
       " ('fundamental', 0.1757362335920334),\n",
       " ('lion', 0.1660567820072174)]"
      ]
     },
     "execution_count": 20,
     "metadata": {},
     "output_type": "execute_result"
    }
   ],
   "source": [
    "# Load the corpus\n",
    "with open('corpus.txt', 'r') as f:\n",
    "    corpus = f.readlines()\n",
    "\n",
    "# Preprocess the data\n",
    "\n",
    "\n",
    "# Train the Word2Vec model\n",
    "\n",
    "\n",
    "# Explore the embeddings\n",
    "# Find the most similar words to 'king'\n",
    "model.wv.most_similar('king')"
   ]
  },
  {
   "cell_type": "code",
   "execution_count": null,
   "id": "d6ce49ff",
   "metadata": {},
   "outputs": [],
   "source": [
    "# Create Document Vectors\n",
    "# We'll use a simple approach: average the word vectors for each document\n",
    "def get_doc_vector(doc_tokens, model):\n",
    "    word_vectors = [model.wv[word] for word in doc_tokens if word in model.wv]\n",
    "    if not word_vectors:\n",
    "        return np.zeros(model.vector_size)\n",
    "    return np.mean(word_vectors, axis=0)\n"
   ]
  },
  {
   "cell_type": "code",
   "execution_count": 22,
   "id": "60f3c2b4",
   "metadata": {},
   "outputs": [],
   "source": [
    "# Create document vectors for the entire corpus by averaging word vectors\n"
   ]
  },
  {
   "cell_type": "code",
   "execution_count": 24,
   "id": "334a7115",
   "metadata": {},
   "outputs": [
    {
     "name": "stdout",
     "output_type": "stream",
     "text": [
      "Original Document: 'a rocket to the moon'\n",
      "Most Similar Document: 'A river flows from the mountains to the ocean.\n",
      "'\n",
      "Similarity Score: 0.6263\n"
     ]
    }
   ],
   "source": [
    "# Define a query sentence\n",
    "query = \"a rocket to the moon\"\n",
    "\n",
    "# Vectorize the query using the correct function and tokenizing it\n",
    "query_tokens = query.lower().split()\n",
    "query_vector = get_doc_vector(query_tokens, model)\n",
    "\n",
    "# scikit-learn's function expects 2D arrays, so we reshape the query vector\n",
    "# The output is a 2D array, so we access the first (and only) row with [0]\n",
    "similarities = cosine_similarity(query_vector.reshape(1, -1), doc_vectors)[0]\n",
    "\n",
    "# Find the most similar document (excluding itself)\n",
    "most_similar_idx = np.argmax(similarities) # -1 is the document itself\n",
    "\n",
    "print(f\"Original Document: '{query}'\")\n",
    "print(f\"Most Similar Document: '{corpus[most_similar_idx]}'\")\n",
    "print(f\"Similarity Score: {similarities[most_similar_idx]:.4f}\")"
   ]
  },
  {
   "cell_type": "code",
   "execution_count": null,
   "id": "924688f3",
   "metadata": {},
   "outputs": [],
   "source": []
  }
 ],
 "metadata": {
  "kernelspec": {
   "display_name": "deep2",
   "language": "python",
   "name": "python3"
  },
  "language_info": {
   "codemirror_mode": {
    "name": "ipython",
    "version": 3
   },
   "file_extension": ".py",
   "mimetype": "text/x-python",
   "name": "python",
   "nbconvert_exporter": "python",
   "pygments_lexer": "ipython3",
   "version": "3.12.10"
  }
 },
 "nbformat": 4,
 "nbformat_minor": 5
}
