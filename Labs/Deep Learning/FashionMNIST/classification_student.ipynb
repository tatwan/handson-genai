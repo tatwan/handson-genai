{
 "cells": [
  {
   "cell_type": "code",
   "execution_count": null,
   "id": "56bc37b9",
   "metadata": {},
   "outputs": [],
   "source": [
    "# TODO: Build your CNN model here\n",
    "# 1. Reshape train_images and test_images to (28, 28, 1)\n",
    "# 2. Define your CNN architecture using keras.Sequential()\n",
    "# 3. Compile the model\n",
    "# 4. Train the model\n",
    "# 5. Evaluate the model\n",
    "\n",
    "# Example starter code:\n",
    "# train_images_cnn = train_images.reshape(-1, 28, 28, 1)\n",
    "# test_images_cnn = test_images.reshape(-1, 28, 28, 1)\n",
    "\n",
    "# model_cnn = keras.Sequential([\n",
    "#     keras.layers.Conv2D(...),\n",
    "#     keras.layers.MaxPooling2D(...),\n",
    "#     keras.layers.Flatten(),\n",
    "#     keras.layers.Dense(...),\n",
    "#     keras.layers.Dense(10, activation='softmax')\n",
    "# ])\n",
    "\n",
    "# model_cnn.compile(...)\n",
    "# model_cnn.fit(...)\n",
    "# test_loss_cnn, test_acc_cnn = model_cnn.evaluate(...)\n",
    "# print(f'CNN Test accuracy: {test_acc_cnn:.4f}')"
   ]
  },
  {
   "cell_type": "markdown",
   "id": "e26c6f6a",
   "metadata": {},
   "source": [
    "## 5. CNN Section (To Be Completed by Students)\n",
    "\n",
    "Now it's your turn! In this section, you'll implement a Convolutional Neural Network (CNN) to classify FashionMNIST images. Follow the instructions and hints below to guide your work.\n",
    "\n",
    "### Instructions:\n",
    "- Define a CNN model using Keras Sequential API.\n",
    "- Use Conv2D and MaxPooling2D layers to extract features from images.\n",
    "- Flatten the output and add Dense layers for classification.\n",
    "- Compile and train your CNN model.\n",
    "- Evaluate its performance and compare with the ANN results.\n",
    "\n",
    "### Hints:\n",
    "- Input shape for Conv2D should be (28, 28, 1) since images are grayscale.\n",
    "- Use `activation='relu'` for hidden layers and `activation='softmax'` for the output layer.\n",
    "- You may use 1-2 convolutional layers followed by pooling.\n",
    "\n",
    "---\n",
    "\n",
    "**Starter code:**"
   ]
  },
  {
   "cell_type": "code",
   "execution_count": null,
   "id": "a2b68dc7",
   "metadata": {},
   "outputs": [],
   "source": [
    "# Evaluate model\n",
    " test_loss, test_acc = model.evaluate(test_images, test_labels, verbose=2)\n",
    " print(f'\\nTest accuracy: {test_acc:.4f}')"
   ]
  },
  {
   "cell_type": "markdown",
   "id": "5fecd772",
   "metadata": {},
   "source": [
    "## 4. Evaluate ANN Model\n",
    "\n",
    "Let's evaluate the performance of our trained ANN model on the test dataset. Run the cell below to see the test accuracy."
   ]
  },
  {
   "cell_type": "code",
   "execution_count": null,
   "id": "46c1c51c",
   "metadata": {},
   "outputs": [],
   "source": [
    "# Build ANN model\n",
    "model = keras.Sequential([\n",
    "    keras.layers.Flatten(input_shape=(28, 28)),\n",
    "    keras.layers.Dense(128, activation='relu'),\n",
    "    keras.layers.Dense(10, activation='softmax')\n",
    "])\n",
    "\n",
    "# Compile model\n",
    "model.compile(optimizer='adam',\n",
    "              loss='sparse_categorical_crossentropy',\n",
    "              metrics=['accuracy'])\n",
    "\n",
    "# Train model\n",
    "model.fit(train_images, train_labels, epochs=10)"
   ]
  },
  {
   "cell_type": "markdown",
   "id": "836ddcf2",
   "metadata": {},
   "source": [
    "## 3. Build and Train ANN Model\n",
    "\n",
    "Let's build a simple Artificial Neural Network (ANN) for image classification. The model will have an input layer, one hidden layer, and an output layer. Run the cell below to define, compile, and train the ANN."
   ]
  },
  {
   "cell_type": "code",
   "execution_count": null,
   "id": "a0a70dd7",
   "metadata": {},
   "outputs": [],
   "source": [
    "# Load FashionMNIST dataset\n",
    "fashion_mnist = keras.datasets.fashion_mnist\n",
    "(train_images, train_labels), (test_images, test_labels) = fashion_mnist.load_data()\n",
    "\n",
    "# Normalize pixel values to [0, 1]\n",
    "train_images = train_images / 255.0\n",
    "test_images = test_images / 255.0\n",
    "\n",
    "# Class names for reference\n",
    "class_names = ['T-shirt/top', 'Trouser', 'Pullover', 'Dress', 'Coat',\n",
    "               'Sandal', 'Shirt', 'Sneaker', 'Bag', 'Ankle boot']"
   ]
  },
  {
   "cell_type": "markdown",
   "id": "44e56a82",
   "metadata": {},
   "source": [
    "## 2. Prepare Dataset\n",
    "\n",
    "We'll use the FashionMNIST dataset, which is included in Keras. The dataset contains 70,000 grayscale images of 10 fashion categories. Run the cell below to load and preprocess the data."
   ]
  },
  {
   "cell_type": "code",
   "execution_count": null,
   "id": "00b85e61",
   "metadata": {},
   "outputs": [],
   "source": [
    "# Import libraries\n",
    "import numpy as np\n",
    "import tensorflow as tf\n",
    "from tensorflow import keras\n",
    "import matplotlib.pyplot as plt"
   ]
  },
  {
   "cell_type": "markdown",
   "id": "58130c34",
   "metadata": {},
   "source": [
    "## 1. Import Required Libraries\n",
    "\n",
    "Let's start by importing the libraries we'll need for this project. Run the cell below to import NumPy, TensorFlow, Keras, and Matplotlib."
   ]
  },
  {
   "cell_type": "markdown",
   "id": "79400b52",
   "metadata": {},
   "source": [
    "# FashionMNIST Classification: Student Version\n",
    "\n",
    "Welcome! In this notebook, you'll learn how to build and train an Artificial Neural Network (ANN) for image classification using the FashionMNIST dataset. Later, you'll have the opportunity to implement a Convolutional Neural Network (CNN) on your own, guided by hints and instructions.\n",
    "\n",
    "---\n",
    "\n",
    "## Outline\n",
    "1. Import Required Libraries\n",
    "2. Prepare Dataset\n",
    "3. Build and Train ANN Model\n",
    "4. Evaluate ANN Model\n",
    "5. **CNN Section (To Be Completed by Students)**\n"
   ]
  }
 ],
 "metadata": {
  "language_info": {
   "name": "python"
  }
 },
 "nbformat": 4,
 "nbformat_minor": 5
}
